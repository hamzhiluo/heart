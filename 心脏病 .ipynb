{
 "cells": [
  {
   "cell_type": "code",
   "execution_count": null,
   "id": "2f46204f-3de7-43a2-baae-6854b411c8a0",
   "metadata": {
    "ExecutionIndicator": {
     "show": true
    },
    "execution": {
     "iopub.execute_input": "2025-03-01T12:46:51.215015Z",
     "iopub.status.busy": "2025-03-01T12:46:51.214663Z",
     "iopub.status.idle": "2025-03-01T12:46:56.769444Z",
     "shell.execute_reply": "2025-03-01T12:46:56.768841Z",
     "shell.execute_reply.started": "2025-03-01T12:46:51.214995Z"
    },
    "tags": []
   },
   "outputs": [],
   "source": [
    "%pip install xgboost\n",
    "%pip install   lightgbm\n",
    "%pip install shap\n",
    "import warnings\n",
    "warnings.filterwarnings(\"ignore\")\n"
   ]
  },
  {
   "cell_type": "markdown",
   "id": "4158669f-8921-4864-b95a-5ad453e8e014",
   "metadata": {},
   "source": []
  },
  {
   "cell_type": "code",
   "execution_count": null,
   "id": "f30cd6ca-afa1-4d83-b4e7-342227e0e3ff",
   "metadata": {
    "ExecutionIndicator": {
     "show": true
    },
    "execution": {
     "iopub.execute_input": "2025-03-01T12:46:56.770760Z",
     "iopub.status.busy": "2025-03-01T12:46:56.770481Z",
     "iopub.status.idle": "2025-03-01T12:46:56.788357Z",
     "shell.execute_reply": "2025-03-01T12:46:56.787913Z",
     "shell.execute_reply.started": "2025-03-01T12:46:56.770741Z"
    },
    "tags": []
   },
   "outputs": [],
   "source": [
    "# 忽视警告\n",
    "import warnings\n",
    "warnings.simplefilter('ignore')\n",
    "\n",
    "# 数据处理\n",
    "import numpy as np\n",
    "import pandas as pd\n",
    "# 数据可视化\n",
    "import matplotlib.pyplot as plt\n",
    "import seaborn as sns \n",
    "# 随机森林\n",
    "from sklearn.ensemble import RandomForestClassifier \n",
    "# 策树\n",
    "from sklearn.tree import DecisionTreeClassifier\n",
    "# 树的可视化\n",
    "from sklearn.tree import export_graphviz \n",
    "# 模型评估方法\n",
    "from sklearn.metrics import roc_curve, auc \n",
    "from sklearn.metrics import classification_report \n",
    "#混淆矩阵\n",
    "from sklearn.metrics import confusion_matrix \n",
    "# 数据切分\n",
    "from sklearn.model_selection import train_test_split \n",
    "import xgboost as xgb\n",
    "import lightgbm as lgb\n",
    "from sklearn.metrics import roc_auc_score\n",
    "from sklearn.linear_model import LogisticRegression\n",
    "from sklearn.model_selection import train_test_split\n",
    "from sklearn.metrics import accuracy_score\n",
    "from sklearn.linear_model import LogisticRegression\n",
    "from sklearn.model_selection import GridSearchCV, train_test_split\n",
    "from sklearn.metrics import confusion_matrix, classification_report, roc_auc_score\n",
    "from sklearn.naive_bayes import GaussianNB\n",
    "from sklearn.model_selection import GridSearchCV, train_test_split\n",
    "from sklearn.metrics import roc_auc_score\n",
    "import matplotlib.pyplot as plt\n",
    "from sklearn.metrics import roc_curve, auc\n",
    "from sklearn.model_selection import cross_val_predict\n",
    "from sklearn.linear_model import LogisticRegression\n",
    "from sklearn.svm import SVC\n",
    "from sklearn.naive_bayes import GaussianNB\n",
    "from sklearn.ensemble import RandomForestClassifier\n",
    "import xgboost as xgb\n",
    "import lightgbm as lgb\n",
    "from matplotlib.cm import get_cmap  # new\n",
    "import numpy as np\n",
    "import pandas as pd\n",
    "import matplotlib.pyplot as plt\n",
    "from sklearn.datasets import make_classification\n",
    "from sklearn.model_selection import train_test_split\n",
    "from sklearn.linear_model import LogisticRegression\n",
    "from sklearn.ensemble import RandomForestClassifier\n",
    "import xgboost as xgb\n",
    "from sklearn.base import BaseEstimator, ClassifierMixin  # 导入 BaseEstimator 和 ClassifierMixin\n",
    "from pdpbox import pdp\n",
    "\n",
    "\n",
    "# 读取 CSV 文件\n",
    "dt = pd.read_csv(\"./data/heart.csv\")\n",
    "\n",
    "# 查看数据的前几行\n",
    "print(dt.head())\n",
    "np.random.seed(123) \n",
    "pd.options.mode.chained_assignment = None  \n",
    "#突图标嵌入 不弹窗\n",
    "%matplotlib inline"
   ]
  },
  {
   "cell_type": "code",
   "execution_count": null,
   "id": "91f85786-b2f1-4640-9947-fc701b719b1b",
   "metadata": {
    "execution": {
     "iopub.execute_input": "2025-03-01T12:46:56.789028Z",
     "iopub.status.busy": "2025-03-01T12:46:56.788825Z",
     "iopub.status.idle": "2025-03-01T12:46:56.799367Z",
     "shell.execute_reply": "2025-03-01T12:46:56.798884Z",
     "shell.execute_reply.started": "2025-03-01T12:46:56.789012Z"
    },
    "tags": []
   },
   "outputs": [],
   "source": [
    "dt = pd.read_csv(\"./data/heart.csv\")\n",
    "dt.head()"
   ]
  },
  {
   "cell_type": "code",
   "execution_count": null,
   "id": "4cb13d1d-2b2a-4310-8ccb-efeda1a93cc6",
   "metadata": {
    "execution": {
     "iopub.execute_input": "2025-03-01T12:46:56.800534Z",
     "iopub.status.busy": "2025-03-01T12:46:56.800301Z",
     "iopub.status.idle": "2025-03-01T12:46:56.804191Z",
     "shell.execute_reply": "2025-03-01T12:46:56.803793Z",
     "shell.execute_reply.started": "2025-03-01T12:46:56.800518Z"
    },
    "tags": []
   },
   "outputs": [],
   "source": [
    "# 统计\"target\"列各类别的总数 检查平衡性\n",
    "dt.target.value_counts()"
   ]
  },
  {
   "cell_type": "code",
   "execution_count": null,
   "id": "926b043b-9782-46bb-804b-f3b9abb09e9b",
   "metadata": {
    "ExecutionIndicator": {
     "show": true
    },
    "execution": {
     "iopub.execute_input": "2025-03-01T12:46:56.804863Z",
     "iopub.status.busy": "2025-03-01T12:46:56.804650Z",
     "iopub.status.idle": "2025-03-01T12:46:56.807707Z",
     "shell.execute_reply": "2025-03-01T12:46:56.807311Z",
     "shell.execute_reply.started": "2025-03-01T12:46:56.804848Z"
    },
    "tags": []
   },
   "outputs": [],
   "source": [
    "# 设置可视化风格\n",
    "sns.set(palette=[\"#66ccff\"], rc={\"figure.figsize\": (8, 4),  # 图形大小\n",
    "                                \"axes.titlesize\": 14,    # 标题文字尺寸\n",
    "                                \"axes.labelsize\": 12,    # 坐标轴标签文字尺寸\n",
    "                                \"xtick.labelsize\": 10,   # X轴刻度文字尺寸\n",
    "                                \"ytick.labelsize\": 10})  # Y轴刻度文字尺寸\n"
   ]
  },
  {
   "cell_type": "code",
   "execution_count": null,
   "id": "c53c8f0b-d48c-4cb2-afbf-e3191570a0b6",
   "metadata": {},
   "outputs": [],
   "source": []
  },
  {
   "cell_type": "code",
   "execution_count": null,
   "id": "8fe4288e-85ad-49fd-be07-9d65b9fcace5",
   "metadata": {
    "ExecutionIndicator": {
     "show": true
    },
    "execution": {
     "iopub.execute_input": "2025-03-01T12:46:56.808500Z",
     "iopub.status.busy": "2025-03-01T12:46:56.808240Z",
     "iopub.status.idle": "2025-03-01T12:46:56.992455Z",
     "shell.execute_reply": "2025-03-01T12:46:56.991764Z",
     "shell.execute_reply.started": "2025-03-01T12:46:56.808485Z"
    },
    "tags": []
   },
   "outputs": [],
   "source": [
    "a = sns.countplot(x = 'target', data = dt)               # 绘制计数图，其中x为target，数据为dt\n",
    "a.set_title('Distribution of Presence of Heart Disease') # 设置图形标题\n",
    "a.set_xticklabels(['Absent', 'Present'])                 # 将两个条形的标签分别设置为“Absent”（没有心脏病）和“Present”（有心脏病）\n",
    "plt.xlabel(\"Presence of Heart Disease\")                  # 设置X轴标签\n",
    "\n",
    "\n",
    "# 显示图形\n",
    "plt.show()"
   ]
  },
  {
   "cell_type": "code",
   "execution_count": null,
   "id": "4a870fee-d1a5-4f07-8aee-d79c97c9eecb",
   "metadata": {
    "ExecutionIndicator": {
     "show": true
    },
    "execution": {
     "iopub.execute_input": "2025-03-01T12:46:56.993322Z",
     "iopub.status.busy": "2025-03-01T12:46:56.993083Z",
     "iopub.status.idle": "2025-03-01T12:46:57.367759Z",
     "shell.execute_reply": "2025-03-01T12:46:57.367110Z",
     "shell.execute_reply.started": "2025-03-01T12:46:56.993306Z"
    },
    "tags": []
   },
   "outputs": [],
   "source": [
    "g = sns.countplot(x = 'age', data = dt) # 绘制计数图，其中x为age，数据为dt\n",
    "g.set_title('Distribution of Age')      # 设置图形标题\n",
    "plt.xlabel('Age')                       # 设置X轴标签"
   ]
  },
  {
   "cell_type": "code",
   "execution_count": null,
   "id": "d667723e-ebab-49d8-8b5f-11a5a93bd9b2",
   "metadata": {
    "ExecutionIndicator": {
     "show": true
    },
    "execution": {
     "iopub.execute_input": "2025-03-01T12:46:57.368640Z",
     "iopub.status.busy": "2025-03-01T12:46:57.368407Z",
     "iopub.status.idle": "2025-03-01T12:46:57.373285Z",
     "shell.execute_reply": "2025-03-01T12:46:57.372683Z",
     "shell.execute_reply.started": "2025-03-01T12:46:57.368623Z"
    },
    "tags": []
   },
   "outputs": [],
   "source": [
    "# 患者性别分布\n",
    "dt.sex.value_counts()\n",
    "\n"
   ]
  },
  {
   "cell_type": "code",
   "execution_count": null,
   "id": "31ed0a5a-1742-440a-af71-b1fea09c3eca",
   "metadata": {
    "execution": {
     "iopub.execute_input": "2025-03-01T12:46:57.374037Z",
     "iopub.status.busy": "2025-03-01T12:46:57.373843Z",
     "iopub.status.idle": "2025-03-01T12:46:57.477655Z",
     "shell.execute_reply": "2025-03-01T12:46:57.476995Z",
     "shell.execute_reply.started": "2025-03-01T12:46:57.374022Z"
    },
    "tags": []
   },
   "outputs": [],
   "source": [
    "b = sns.countplot(x = 'target', data = dt, hue = 'sex')          # 创建一个计数图，其中x为target，数据为dt，用sex作为色相（切分类别）\n",
    "plt.legend(['Female', 'Male'])                                    # 以female/male作为标签，在图形中嵌入图例\n",
    "b.set_title('Distribution of Presence of Heart Disease by Sex')   # 设置图形标题\n",
    "b.set_xticklabels(['Absent', 'Present'])                          # 设置条形图的标签\n",
    "\n",
    "# 显示图形\n",
    "plt.show()"
   ]
  },
  {
   "cell_type": "code",
   "execution_count": null,
   "id": "d6237bb3-515b-4489-b70a-5e3d4422e739",
   "metadata": {
    "ExecutionIndicator": {
     "show": true
    },
    "execution": {
     "iopub.execute_input": "2025-03-01T12:46:57.479636Z",
     "iopub.status.busy": "2025-03-01T12:46:57.479406Z",
     "iopub.status.idle": "2025-03-01T12:46:57.709338Z",
     "shell.execute_reply": "2025-03-01T12:46:57.708876Z",
     "shell.execute_reply.started": "2025-03-01T12:46:57.479619Z"
    },
    "tags": []
   },
   "outputs": [],
   "source": [
    "# 可视化病患血清胆固醇浓度分布 \n",
    "# 高胆固醇（**`chol`** 血清胆固醇浓度）\n",
    "#高血压（**`trestbps`** 病人(入院时)的静息血压）\n",
    "#糖尿病（**`fbs`** 空腹血糖浓度）\n",
    "# 遗传（**`thal`**: 地中海贫血）\n",
    "sns.distplot(dt['chol'].dropna(), kde=True, color='#66ccff', bins=40)"
   ]
  },
  {
   "cell_type": "code",
   "execution_count": null,
   "id": "a7145678-4aed-4f2a-a487-bac555d31ee3",
   "metadata": {
    "ExecutionIndicator": {
     "show": true
    },
    "execution": {
     "iopub.execute_input": "2025-03-01T12:46:57.710050Z",
     "iopub.status.busy": "2025-03-01T12:46:57.709822Z",
     "iopub.status.idle": "2025-03-01T12:46:57.910653Z",
     "shell.execute_reply": "2025-03-01T12:46:57.910240Z",
     "shell.execute_reply.started": "2025-03-01T12:46:57.710035Z"
    },
    "tags": []
   },
   "outputs": [],
   "source": [
    "# 可视化病人(入院时)的静息血压分布\n",
    "sns.distplot(dt['trestbps'].dropna(), kde=True, color='#66ccff', bins=10)"
   ]
  },
  {
   "cell_type": "code",
   "execution_count": null,
   "id": "e2cb1139-0351-4f8a-b8aa-96668d8b0e2f",
   "metadata": {
    "execution": {
     "iopub.execute_input": "2025-03-01T12:46:57.911382Z",
     "iopub.status.busy": "2025-03-01T12:46:57.911173Z",
     "iopub.status.idle": "2025-03-01T12:46:58.004871Z",
     "shell.execute_reply": "2025-03-01T12:46:58.004429Z",
     "shell.execute_reply.started": "2025-03-01T12:46:57.911368Z"
    },
    "tags": []
   },
   "outputs": [],
   "source": [
    "# 可视化病人空腹血糖浓度分布\n",
    "g = sns.countplot(x = 'fbs', data = dt)                 # 绘制计数图，其中x为fbs，数据为dt\n",
    "g.set_title('Distribution of Fasting blood sugar')      # 设置图形标题\n",
    "plt.xlabel('Fasting blood sugar')                       # 设置X轴标签"
   ]
  },
  {
   "cell_type": "code",
   "execution_count": null,
   "id": "531c17f2-2b84-4a72-a60a-1607ff19f3ee",
   "metadata": {
    "execution": {
     "iopub.execute_input": "2025-03-01T12:46:58.005642Z",
     "iopub.status.busy": "2025-03-01T12:46:58.005422Z",
     "iopub.status.idle": "2025-03-01T12:46:58.135633Z",
     "shell.execute_reply": "2025-03-01T12:46:58.135157Z",
     "shell.execute_reply.started": "2025-03-01T12:46:58.005627Z"
    },
    "tags": []
   },
   "outputs": [],
   "source": [
    "b = sns.countplot(x = 'target', data = dt, hue = 'thal')                # 创建一个计数图，\n",
    "                                                                        # 其中x为target，数据为dt，\n",
    "                                                                        # 用thal作为色相（切分类别）\n",
    "b.set_title('Distribution of Presence of Heart Disease by Thalassemia') # 设置图形标题\n",
    "b.set_xticklabels(['Absent', 'Present'])                                # 设置条形图的标签\n",
    "\n",
    "# 显示图形\n",
    "plt.show()"
   ]
  },
  {
   "cell_type": "code",
   "execution_count": null,
   "id": "9fca8490-232f-418a-8a08-afc96f92184b",
   "metadata": {
    "ExecutionIndicator": {
     "show": true
    },
    "execution": {
     "iopub.execute_input": "2025-03-01T12:46:58.136509Z",
     "iopub.status.busy": "2025-03-01T12:46:58.136248Z",
     "iopub.status.idle": "2025-03-01T12:46:58.141115Z",
     "shell.execute_reply": "2025-03-01T12:46:58.140674Z",
     "shell.execute_reply.started": "2025-03-01T12:46:58.136492Z"
    },
    "tags": []
   },
   "outputs": [],
   "source": [
    "df=dt.copy() # 拷贝一个副本操作\n",
    "df['age_category'] = pd.cut(df.age, bins = list(np.arange(25, 85, 5)))"
   ]
  },
  {
   "cell_type": "code",
   "execution_count": null,
   "id": "2e277a46-f152-4dd0-8cd7-71f25a9a1e61",
   "metadata": {
    "execution": {
     "iopub.execute_input": "2025-03-01T12:46:58.142004Z",
     "iopub.status.busy": "2025-03-01T12:46:58.141695Z",
     "iopub.status.idle": "2025-03-01T12:46:58.377653Z",
     "shell.execute_reply": "2025-03-01T12:46:58.377173Z",
     "shell.execute_reply.started": "2025-03-01T12:46:58.141983Z"
    },
    "tags": []
   },
   "outputs": [],
   "source": [
    "# 将 .groupby 函数应用于目标 == 0（患有心脏病的人）到副本 dataframe `df`，并按 `age_category` 列进行分组\n",
    "# 使用 age 列上的 .count() 函数来计算每个年龄类别中有多少患者患有心脏病\n",
    "# 将 kind 参数设置为 bar ，将 .plot() 应用于此以绘制条形图\n",
    "plt.subplot(121)\n",
    "df[df.target == 0].groupby('age_category')['age'].count().plot(kind = 'bar')\n",
    "plt.title('Present')\n",
    "plt.xlabel('Age Group')\n",
    "plt.ylabel('Count')\n",
    "\n",
    "# 和患有心脏病的处理方式一致，这里得到没有心脏病的患者分布情况\n",
    "plt.subplot(122)\n",
    "df[df.target == 1].groupby('age_category')['age'].count().plot(kind = 'bar')\n",
    "plt.title('Absent')\n",
    "plt.xlabel('Age Group')\n",
    "plt.ylabel('Count')"
   ]
  },
  {
   "cell_type": "code",
   "execution_count": null,
   "id": "c46ed17c-8aa4-43ca-8d3f-651639033e94",
   "metadata": {
    "ExecutionIndicator": {
     "show": true
    },
    "execution": {
     "iopub.execute_input": "2025-03-01T12:46:58.378434Z",
     "iopub.status.busy": "2025-03-01T12:46:58.378223Z",
     "iopub.status.idle": "2025-03-01T12:46:58.715699Z",
     "shell.execute_reply": "2025-03-01T12:46:58.715241Z",
     "shell.execute_reply.started": "2025-03-01T12:46:58.378419Z"
    },
    "tags": []
   },
   "outputs": [],
   "source": [
    "f,ax = plt.subplots(figsize=(10,10)) # 定义图形尺寸\n",
    "# 根据计算的相关值绘制热力图\n",
    "sns.heatmap(dt.corr('pearson'), annot = True, linewidths = .5, fmt =  '.1f', ax = ax)\n",
    "\n",
    "# 显示特征相关性热力图\n",
    "plt.show()"
   ]
  },
  {
   "cell_type": "markdown",
   "id": "46eaee4e-3370-4d69-baa1-d6525aa6a398",
   "metadata": {},
   "source": [
    "数据预处理"
   ]
  },
  {
   "cell_type": "code",
   "execution_count": null,
   "id": "67b8db79-2646-46f4-9c5d-aafb35ddbf2b",
   "metadata": {
    "ExecutionIndicator": {
     "show": true
    },
    "execution": {
     "iopub.execute_input": "2025-03-01T12:46:58.716493Z",
     "iopub.status.busy": "2025-03-01T12:46:58.716259Z",
     "iopub.status.idle": "2025-03-01T12:46:58.723531Z",
     "shell.execute_reply": "2025-03-01T12:46:58.723095Z",
     "shell.execute_reply.started": "2025-03-01T12:46:58.716477Z"
    },
    "tags": []
   },
   "outputs": [],
   "source": [
    "#重命名\n",
    "dt.columns = ['age', \n",
    "              'sex', \n",
    "              'chest_pain_type', \n",
    "              'resting_blood_pressure', \n",
    "              'cholesterol', \n",
    "              'fasting_blood_sugar', \n",
    "              'rest_ecg', \n",
    "              'max_heart_rate_achieved',\n",
    "              'exercise_induced_angina', \n",
    "              'st_depression', \n",
    "              'st_slope', \n",
    "              'num_major_vessels', \n",
    "              'thalassemia', 'target']\n",
    "dt.info()"
   ]
  },
  {
   "cell_type": "code",
   "execution_count": null,
   "id": "e9789f91-e6ad-4d16-b050-eb0825ba5b5e",
   "metadata": {
    "ExecutionIndicator": {
     "show": true
    },
    "execution": {
     "iopub.execute_input": "2025-03-01T12:46:58.724414Z",
     "iopub.status.busy": "2025-03-01T12:46:58.724030Z",
     "iopub.status.idle": "2025-03-01T12:46:58.731400Z",
     "shell.execute_reply": "2025-03-01T12:46:58.730982Z",
     "shell.execute_reply.started": "2025-03-01T12:46:58.724398Z"
    },
    "tags": []
   },
   "outputs": [],
   "source": [
    "# 使用\"astype\"指定数据类型\n",
    "dt['sex'] = dt['sex'].astype('object')\n",
    "dt['chest_pain_type'] = dt['chest_pain_type'].astype('object')\n",
    "dt['fasting_blood_sugar'] = dt['fasting_blood_sugar'].astype('object')\n",
    "dt['rest_ecg'] = dt['rest_ecg'].astype('object')\n",
    "dt['exercise_induced_angina'] = dt['exercise_induced_angina'].astype('object')\n",
    "dt['st_slope'] = dt['st_slope'].astype('object')\n",
    "dt['thalassemia'] = dt['thalassemia'].astype('object')\n",
    "dt.dtypes"
   ]
  },
  {
   "cell_type": "code",
   "execution_count": null,
   "id": "3eb451b0-c624-426d-8e70-f05652a4d7b1",
   "metadata": {
    "ExecutionIndicator": {
     "show": true
    },
    "execution": {
     "iopub.execute_input": "2025-03-01T12:46:58.732134Z",
     "iopub.status.busy": "2025-03-01T12:46:58.731848Z",
     "iopub.status.idle": "2025-03-01T12:46:58.753395Z",
     "shell.execute_reply": "2025-03-01T12:46:58.752929Z",
     "shell.execute_reply.started": "2025-03-01T12:46:58.732118Z"
    },
    "tags": []
   },
   "outputs": [],
   "source": [
    "# 对object数据类型进行编码\n",
    "# 将\"female\"编码为0，将\"male\"编码为1\n",
    "# 下面的编码方式类似\n",
    "dt['sex'][dt['sex'] == 0] = 'female'\n",
    "dt['sex'][dt['sex'] == 1] = 'male'\n",
    "\n",
    "dt['chest_pain_type'][dt['chest_pain_type'] == 1] = 'typical angina'\n",
    "dt['chest_pain_type'][dt['chest_pain_type'] == 2] = 'atypical angina'\n",
    "dt['chest_pain_type'][dt['chest_pain_type'] == 3] = 'non-anginal pain'\n",
    "dt['chest_pain_type'][dt['chest_pain_type'] == 4] = 'asymptomatic'\n",
    "\n",
    "dt['fasting_blood_sugar'][dt['fasting_blood_sugar'] == 0] = 'lower than 120mg/ml'\n",
    "dt['fasting_blood_sugar'][dt['fasting_blood_sugar'] == 1] = 'greater than 120mg/ml'\n",
    "\n",
    "dt['rest_ecg'][dt['rest_ecg'] == 0] = 'normal'\n",
    "dt['rest_ecg'][dt['rest_ecg'] == 1] = 'ST-T wave abnormality'\n",
    "dt['rest_ecg'][dt['rest_ecg'] == 2] = 'left ventricular hypertrophy'\n",
    "\n",
    "dt['exercise_induced_angina'][dt['exercise_induced_angina'] == 0] = 'no'\n",
    "dt['exercise_induced_angina'][dt['exercise_induced_angina'] == 1] = 'yes'\n",
    "\n",
    "dt['st_slope'][dt['st_slope'] == 1] = 'upsloping'\n",
    "dt['st_slope'][dt['st_slope'] == 2] = 'flat'\n",
    "dt['st_slope'][dt['st_slope'] == 3] = 'downsloping'\n",
    "\n",
    "dt['thalassemia'][dt['thalassemia'] == 1] = 'normal'\n",
    "dt['thalassemia'][dt['thalassemia'] == 2] = 'fixed defect'\n",
    "dt['thalassemia'][dt['thalassemia'] == 3] = 'reversable defect'\n",
    "dt.head().T"
   ]
  },
  {
   "cell_type": "code",
   "execution_count": null,
   "id": "087c55ea-24d1-4e50-b6da-a275d13b0204",
   "metadata": {
    "ExecutionIndicator": {
     "show": true
    },
    "execution": {
     "iopub.execute_input": "2025-03-01T12:46:58.754120Z",
     "iopub.status.busy": "2025-03-01T12:46:58.753848Z",
     "iopub.status.idle": "2025-03-01T12:46:58.764715Z",
     "shell.execute_reply": "2025-03-01T12:46:58.764319Z",
     "shell.execute_reply.started": "2025-03-01T12:46:58.754101Z"
    },
    "tags": []
   },
   "outputs": [],
   "source": [
    "# 调用\"get_dummies\"进行独热编码\n",
    "dt = pd.get_dummies(dt, drop_first=True) \n",
    "dt.head().T"
   ]
  },
  {
   "cell_type": "code",
   "execution_count": null,
   "id": "9e92cc16-69cd-4b35-a352-8a78ddfc950e",
   "metadata": {},
   "outputs": [],
   "source": []
  },
  {
   "cell_type": "code",
   "execution_count": null,
   "id": "d3b994b9-3b86-4f38-aa81-da7eecb58b26",
   "metadata": {
    "ExecutionIndicator": {
     "show": true
    },
    "execution": {
     "iopub.execute_input": "2025-03-01T12:46:58.765522Z",
     "iopub.status.busy": "2025-03-01T12:46:58.765193Z",
     "iopub.status.idle": "2025-03-01T12:46:58.769934Z",
     "shell.execute_reply": "2025-03-01T12:46:58.769474Z",
     "shell.execute_reply.started": "2025-03-01T12:46:58.765505Z"
    },
    "tags": []
   },
   "outputs": [],
   "source": [
    "#划分训练集和测试集\n",
    "X_train, X_test, y_train, y_test = train_test_split(dt.drop(columns='target'),\n",
    "                                                    dt['target'],\n",
    "                                                    test_size=0.2,\n",
    "                                                    random_state=42)"
   ]
  },
  {
   "cell_type": "code",
   "execution_count": null,
   "id": "b179046f-e79b-4ea6-9be7-59c9143a4151",
   "metadata": {
    "ExecutionIndicator": {
     "show": true
    },
    "execution": {
     "iopub.execute_input": "2025-03-01T12:46:58.770674Z",
     "iopub.status.busy": "2025-03-01T12:46:58.770431Z",
     "iopub.status.idle": "2025-03-01T12:46:59.561649Z",
     "shell.execute_reply": "2025-03-01T12:46:59.561111Z",
     "shell.execute_reply.started": "2025-03-01T12:46:58.770657Z"
    },
    "tags": []
   },
   "outputs": [],
   "source": [
    "# 定义逻辑回归模型\n",
    "lr = LogisticRegression()\n",
    "\n",
    "# 定义参数网格\n",
    "param_grid = {\n",
    "    'C': [0.01, 0.1, 1, 10, 100],  # 正则化强度的倒数\n",
    "    'penalty': ['l1', 'l2'],       # 正则化类型\n",
    "    'solver': ['liblinear']        # 优化算法（liblinear 支持 l1 和 l2）\n",
    "}\n",
    "\n",
    "# 初始化网格搜索\n",
    "grid_search = GridSearchCV(\n",
    "    estimator=lr,  # 模型\n",
    "    param_grid=param_grid,  # 参数网格\n",
    "    cv=5,  # 五折交叉验证\n",
    "    scoring='roc_auc',  # 使用 AUC 作为评估指标\n",
    "    n_jobs=-1  # 使用所有可用的CPU核心\n",
    ")\n",
    "\n",
    "# 在训练集上执行网格搜索\n",
    "grid_search.fit(X_train, y_train)\n",
    "\n",
    "# 输出最佳参数\n",
    "print(\"最佳参数组合:\", grid_search.best_params_)\n",
    "\n",
    "# 使用最佳参数训练模型\n",
    "best_lr = grid_search.best_estimator_\n",
    "\n",
    "# 在测试集上进行预测\n",
    "y_pred_lr = best_lr.predict(X_test)\n",
    "\n",
    "# 输出混淆矩阵\n",
    "print(\"Confusion Matrix:\\n\", confusion_matrix(y_test, y_pred_lr))\n",
    "\n",
    "# 输出分类报告\n",
    "print(\"Classification Report:\\n\", classification_report(y_test, y_pred_lr))\n",
    "\n",
    "# 输出 AUC\n",
    "y_pred_proba = best_lr.predict_proba(X_test)[:, 1]  # 获取正类的概率\n",
    "print(\"测试集 AUC: \", roc_auc_score(y_test, y_pred_proba))"
   ]
  },
  {
   "cell_type": "code",
   "execution_count": null,
   "id": "be8267c6-4d4d-442b-b7a3-fb82cf04da46",
   "metadata": {
    "execution": {
     "iopub.execute_input": "2025-03-01T12:46:59.562610Z",
     "iopub.status.busy": "2025-03-01T12:46:59.562345Z",
     "iopub.status.idle": "2025-03-01T12:46:59.781234Z",
     "shell.execute_reply": "2025-03-01T12:46:59.780768Z",
     "shell.execute_reply.started": "2025-03-01T12:46:59.562593Z"
    },
    "tags": []
   },
   "outputs": [],
   "source": [
    "#二次调参\n",
    "accuracies = []\n",
    "thresholds = np.arange(0.1, 1, 0.01)\n",
    "\n",
    "for threshold in thresholds:\n",
    "    y_pred = (y_pred_proba >= threshold).astype(int)\n",
    "    accuracy = accuracy_score(y_test, y_pred)\n",
    "    accuracies.append(accuracy)\n",
    "\n",
    "# 找到最大准确率及其对应的阈值\n",
    "max_accuracy_index = np.argmax(accuracies)\n",
    "optimal_threshold = thresholds[max_accuracy_index]\n",
    "max_accuracy = accuracies[max_accuracy_index]\n",
    "\n",
    "print(f\"最佳阈值: {optimal_threshold}\")\n",
    "print(f\"最大准确率: {max_accuracy}\")\n",
    "\n",
    "# 绘制阈值 - 准确率曲线\n",
    "plt.plot(thresholds, accuracies)\n",
    "plt.xlabel('Threshold')\n",
    "plt.ylabel('Accuracy')\n",
    "plt.title('Threshold - Accuracy Curve')\n",
    "plt.show()"
   ]
  },
  {
   "cell_type": "code",
   "execution_count": null,
   "id": "35644573-305f-4a43-8fc6-74e64e5ff512",
   "metadata": {
    "ExecutionIndicator": {
     "show": true
    },
    "execution": {
     "iopub.execute_input": "2025-03-01T12:46:59.782024Z",
     "iopub.status.busy": "2025-03-01T12:46:59.781759Z",
     "iopub.status.idle": "2025-03-01T12:46:59.789608Z",
     "shell.execute_reply": "2025-03-01T12:46:59.789180Z",
     "shell.execute_reply.started": "2025-03-01T12:46:59.781994Z"
    },
    "tags": []
   },
   "outputs": [],
   "source": [
    "# 朴素贝叶斯\n",
    "print(\"Naive Bayes:\")\n",
    "nb = GaussianNB()\n",
    "nb.fit(X_train, y_train)\n",
    "y_pred_nb = nb.predict_proba(X_test)[:, 1]\n",
    "print(\"AUC: \", roc_auc_score(y_test, y_pred_nb))"
   ]
  },
  {
   "cell_type": "code",
   "execution_count": null,
   "id": "72dc4523-6546-4a27-b22d-c52b3e172fb1",
   "metadata": {
    "ExecutionIndicator": {
     "show": false
    },
    "execution": {
     "iopub.execute_input": "2025-03-01T12:46:59.790449Z",
     "iopub.status.busy": "2025-03-01T12:46:59.790113Z",
     "iopub.status.idle": "2025-03-01T12:46:59.834272Z",
     "shell.execute_reply": "2025-03-01T12:46:59.833811Z",
     "shell.execute_reply.started": "2025-03-01T12:46:59.790433Z"
    },
    "tags": []
   },
   "outputs": [],
   "source": [
    "# 定义朴素贝叶斯模型\n",
    "nb = GaussianNB()\n",
    "\n",
    "# 定义参数网格\n",
    "param_grid = {\n",
    "    'var_smoothing': [1e-9, 1e-8, 1e-7, 1e-6, 1e-5]  # 方差平滑参数\n",
    "}\n",
    "\n",
    "# 初始化网格搜索\n",
    "grid_search = GridSearchCV(\n",
    "    estimator=nb,  # 模型\n",
    "    param_grid=param_grid,  # 参数网格\n",
    "    cv=5,  # 五折交叉验证\n",
    "    scoring='roc_auc',  # 使用 AUC 作为评估指标\n",
    "    n_jobs=-1  # 使用所有可用的CPU核心\n",
    ")\n",
    "\n",
    "# 在训练集上执行网格搜索\n",
    "grid_search.fit(X_train, y_train)\n",
    "\n",
    "# 输出最佳参数\n",
    "print(\"最佳参数组合:\", grid_search.best_params_)\n",
    "\n",
    "# 使用最佳参数训练模型\n",
    "best_nb = grid_search.best_estimator_\n",
    "\n",
    "# 在测试集上进行预测\n",
    "y_pred_proba = best_nb.predict_proba(X_test)[:, 1]  # 获取正类的概率\n",
    "\n",
    "# 输出测试集 AUC\n",
    "print(\"测试集 AUC: \", roc_auc_score(y_test, y_pred_proba))"
   ]
  },
  {
   "cell_type": "code",
   "execution_count": null,
   "id": "62ab626c-7e37-42a4-87c6-394c5d38b9ee",
   "metadata": {
    "ExecutionIndicator": {
     "show": true
    },
    "execution": {
     "iopub.execute_input": "2025-03-01T12:46:59.835030Z",
     "iopub.status.busy": "2025-03-01T12:46:59.834780Z",
     "iopub.status.idle": "2025-03-01T12:47:00.622071Z",
     "shell.execute_reply": "2025-03-01T12:47:00.621533Z",
     "shell.execute_reply.started": "2025-03-01T12:46:59.835010Z"
    },
    "tags": []
   },
   "outputs": [],
   "source": [
    "# 定义随机森林模型\n",
    "rf = RandomForestClassifier(random_state=42)\n",
    "\n",
    "# 定义参数网格\n",
    "param_grid = {\n",
    "    'n_estimators': [ 100, 150,50],  # 树的数量\n",
    "    'max_depth': [None, 10,20],     # 每棵树的最大深度\n",
    "    \n",
    "}\n",
    "\n",
    "# 初始化网格搜索\n",
    "grid_search = GridSearchCV(\n",
    "    estimator=rf,  # 模型\n",
    "    param_grid=param_grid,  # 参数网格\n",
    "    cv=5,  # 五折交叉验证\n",
    "    scoring='roc_auc',  # 使用 AUC 作为评估指标\n",
    "    n_jobs=-1  # 使用所有可用的CPU核心\n",
    ")\n",
    "\n",
    "# 在训练集上执行网格搜索\n",
    "grid_search.fit(X_train, y_train)\n",
    "\n",
    "# 输出最佳参数\n",
    "print(\"最佳参数组合:\", grid_search.best_params_)\n",
    "\n",
    "# 使用最佳参数训练模型\n",
    "best_rf = grid_search.best_estimator_\n",
    "\n",
    "# 在测试集上进行预测\n",
    "y_pred_proba = best_rf.predict_proba(X_test)[:, 1]  # 获取正类的概率\n",
    "\n",
    "# 输出测试集 AUC\n",
    "print(\"测试集 AUC: \", roc_auc_score(y_test, y_pred_proba))"
   ]
  },
  {
   "cell_type": "code",
   "execution_count": null,
   "id": "b5668e00-608d-4123-952d-f10792ae5f51",
   "metadata": {
    "ExecutionIndicator": {
     "show": true
    },
    "execution": {
     "iopub.execute_input": "2025-03-01T12:47:00.622895Z",
     "iopub.status.busy": "2025-03-01T12:47:00.622639Z",
     "iopub.status.idle": "2025-03-01T12:47:00.743289Z",
     "shell.execute_reply": "2025-03-01T12:47:00.742790Z",
     "shell.execute_reply.started": "2025-03-01T12:47:00.622878Z"
    },
    "tags": []
   },
   "outputs": [],
   "source": [
    "# 定义随机森林模型（使用默认参数）\n",
    "rf = RandomForestClassifier(random_state=42)\n",
    "\n",
    "# 训练模型\n",
    "rf.fit(X_train, y_train)\n",
    "\n",
    "# 在测试集上进行预测\n",
    "y_pred_proba = rf.predict_proba(X_test)[:, 1]  # 获取正类的概率\n",
    "\n",
    "# 输出测试集 AUC\n",
    "print(\" AUC: \", roc_auc_score(y_test, y_pred_proba))\n",
    "print(\"Random Forest Parameters: \")\n",
    "print(rf.get_params())"
   ]
  },
  {
   "cell_type": "code",
   "execution_count": null,
   "id": "90142b9b-18fe-4110-bc90-4e253e02f1a5",
   "metadata": {
    "execution": {
     "iopub.execute_input": "2025-03-01T12:47:00.746254Z",
     "iopub.status.busy": "2025-03-01T12:47:00.746017Z",
     "iopub.status.idle": "2025-03-01T12:47:00.864115Z",
     "shell.execute_reply": "2025-03-01T12:47:00.863684Z",
     "shell.execute_reply.started": "2025-03-01T12:47:00.746237Z"
    },
    "tags": []
   },
   "outputs": [],
   "source": [
    "accuracies = []\n",
    "thresholds = np.arange(0.1, 1, 0.01)\n",
    "\n",
    "for threshold in thresholds:\n",
    "    y_pred = (y_pred_proba >= threshold).astype(int)\n",
    "    accuracy = accuracy_score(y_test, y_pred)\n",
    "    accuracies.append(accuracy)\n",
    "\n",
    "# 找到最大准确率及其对应的阈值\n",
    "max_accuracy_index = np.argmax(accuracies)\n",
    "optimal_threshold = thresholds[max_accuracy_index]\n",
    "max_accuracy = accuracies[max_accuracy_index]\n",
    "\n",
    "print(f\"最佳阈值: {optimal_threshold}\")\n",
    "print(f\"最大准确率: {max_accuracy}\")\n",
    "\n",
    "# 绘制阈值 - 准确率曲线\n",
    "plt.plot(thresholds, accuracies)\n",
    "plt.xlabel('Threshold')\n",
    "plt.ylabel('Accuracy')\n",
    "plt.title('Threshold - Accuracy Curve')\n",
    "plt.show()"
   ]
  },
  {
   "cell_type": "code",
   "execution_count": null,
   "id": "b3254d3b-d15f-4dc4-8682-2f2c685ac180",
   "metadata": {
    "execution": {
     "iopub.execute_input": "2025-03-01T12:47:00.864798Z",
     "iopub.status.busy": "2025-03-01T12:47:00.864593Z",
     "iopub.status.idle": "2025-03-01T12:47:01.920334Z",
     "shell.execute_reply": "2025-03-01T12:47:01.919844Z",
     "shell.execute_reply.started": "2025-03-01T12:47:00.864784Z"
    },
    "tags": []
   },
   "outputs": [],
   "source": [
    "# XGBoost\n",
    "print(\"XGBoost:\")\n",
    "xgb_model = xgb.XGBClassifier()\n",
    "param_grid_xgb = {'max_depth': [3, 6], 'learning_rate': [0.01, 0.1], 'n_estimators': [100, 200]}\n",
    "grid_xgb = GridSearchCV(xgb_model, param_grid_xgb, cv=3, scoring='roc_auc')\n",
    "grid_xgb.fit(X_train, y_train)\n",
    "print(\"Best parameters found: \", grid_xgb.best_params_)\n",
    "y_pred_xgb = grid_xgb.predict_proba(X_test)[:, 1]\n",
    "print(\"AUC: \", roc_auc_score(y_test, y_pred_xgb))"
   ]
  },
  {
   "cell_type": "code",
   "execution_count": null,
   "id": "65a374bf-0832-48bb-b977-50744dd3a6dc",
   "metadata": {
    "ExecutionIndicator": {
     "show": true
    },
    "execution": {
     "iopub.execute_input": "2025-03-01T12:47:01.921145Z",
     "iopub.status.busy": "2025-03-01T12:47:01.920880Z",
     "iopub.status.idle": "2025-03-01T12:47:05.106155Z",
     "shell.execute_reply": "2025-03-01T12:47:05.105653Z",
     "shell.execute_reply.started": "2025-03-01T12:47:01.921129Z"
    },
    "tags": []
   },
   "outputs": [],
   "source": [
    "# 定义 XGBoost 模型\n",
    "xgb_model = xgb.XGBClassifier(random_state=42)\n",
    "\n",
    "# 定义参数网格\n",
    "param_grid = {\n",
    "    'max_depth': [3, 6, 9],  # 树的最大深度\n",
    "    'learning_rate': [0.01, 0.1, 0.3],  # 学习率\n",
    "    'n_estimators': [100, 200, 300],  # 树的数量\n",
    "    'subsample': [0.8, 1.0],  # 样本采样比例\n",
    "    'colsample_bytree': [0.8, 1.0]  # 特征采样比例\n",
    "}\n",
    "\n",
    "# 初始化网格搜索\n",
    "grid_search = GridSearchCV(\n",
    "    estimator=xgb_model,  # 模型\n",
    "    param_grid=param_grid,  # 参数网格\n",
    "    cv=5,  # 五折交叉验证\n",
    "    scoring='roc_auc',  # 使用 AUC 作为评估指标\n",
    "    n_jobs=-1  # 使用所有可用的CPU核心\n",
    ")\n",
    "\n",
    "# 在训练集上执行网格搜索\n",
    "grid_search.fit(X_train, y_train)\n",
    "\n",
    "# 输出最佳参数\n",
    "print(\"最佳参数组合:\", grid_search.best_params_)\n",
    "\n",
    "# 使用最佳参数训练模型\n",
    "best_xgb = grid_search.best_estimator_\n",
    "\n",
    "# 在测试集上进行预测\n",
    "y_pred_proba = best_xgb.predict_proba(X_test)[:, 1]  # 获取正类的概率\n",
    "\n",
    "# 输出测试集 AUC\n",
    "print(\"测试集 AUC: \", roc_auc_score(y_test, y_pred_proba))"
   ]
  },
  {
   "cell_type": "code",
   "execution_count": null,
   "id": "4337f804-0dcf-4a68-b709-4aabdeca86ad",
   "metadata": {
    "ExecutionIndicator": {
     "show": true
    },
    "execution": {
     "iopub.execute_input": "2025-03-01T12:47:05.106975Z",
     "iopub.status.busy": "2025-03-01T12:47:05.106714Z",
     "iopub.status.idle": "2025-03-01T12:47:05.359633Z",
     "shell.execute_reply": "2025-03-01T12:47:05.359189Z",
     "shell.execute_reply.started": "2025-03-01T12:47:05.106958Z"
    },
    "tags": []
   },
   "outputs": [],
   "source": [
    "import numpy as np\n",
    "from sklearn.linear_model import LogisticRegression\n",
    "from sklearn.ensemble import RandomForestClassifier\n",
    "from xgboost import XGBClassifier\n",
    "from sklearn.metrics import roc_auc_score\n",
    "from sklearn.datasets import make_classification\n",
    "from sklearn.model_selection import train_test_split\n",
    "\n",
    "\n",
    "# 定义基础模型\n",
    "base_models = [\n",
    "    ('lr', LogisticRegression(C=1, penalty='l2', solver='liblinear')),\n",
    "    ('rf', RandomForestClassifier(random_state=42)),\n",
    "    ('xgb', XGBClassifier(learning_rate=0.1, max_depth=3, n_estimators=100))\n",
    "]\n",
    "\n",
    "# 训练模型并获取预测概率\n",
    "probabilities = {}\n",
    "for name, model in base_models:\n",
    "    model.fit(X_train, y_train)\n",
    "    probabilities[name] = model.predict_proba(X_test)[:, 1]  # 获取正类概率\n",
    "\n",
    "# 网格搜索权重组合\n",
    "weights = np.linspace(0, 1, 11)\n",
    "best_auc = 0\n",
    "best_weights = {}\n",
    "\n",
    "# 三维网格搜索优化权重\n",
    "for w_lr in weights:\n",
    "    for w_rf in weights:\n",
    "        for w_xgb in weights:\n",
    "            if np.isclose(w_lr + w_rf + w_xgb, 1.0):\n",
    "                # 加权平均概率\n",
    "                weighted_prob = (w_lr * probabilities['lr'] +\n",
    "                                 w_rf * probabilities['rf'] +\n",
    "                                 w_xgb * probabilities['xgb'])\n",
    "                \n",
    "                # 计算AUC\n",
    "                auc = roc_auc_score(y_test, weighted_prob)\n",
    "                \n",
    "                # 更新最佳权重和AUC\n",
    "                if auc > best_auc:\n",
    "                    best_auc = auc\n",
    "                    best_weights = {'lr': w_lr, 'rf': w_rf, 'xgb': w_xgb}\n",
    "\n",
    "# 输出结果\n",
    "print(f\"最佳权重组合：{best_weights}\")\n",
    "print(f\"验证集AUC：{best_auc:.4f}\")\n"
   ]
  },
  {
   "cell_type": "code",
   "execution_count": null,
   "id": "fb8f7c6a-d106-4342-acdf-bc5f1ae1cbab",
   "metadata": {},
   "outputs": [],
   "source": []
  },
  {
   "cell_type": "code",
   "execution_count": null,
   "id": "bcc81a30-5edc-415e-be1b-9d2e5b96e0f5",
   "metadata": {
    "ExecutionIndicator": {
     "show": true
    },
    "execution": {
     "iopub.execute_input": "2025-03-01T12:47:05.360538Z",
     "iopub.status.busy": "2025-03-01T12:47:05.360224Z",
     "iopub.status.idle": "2025-03-01T12:47:06.510756Z",
     "shell.execute_reply": "2025-03-01T12:47:06.510303Z",
     "shell.execute_reply.started": "2025-03-01T12:47:05.360522Z"
    },
    "tags": []
   },
   "outputs": [],
   "source": [
    "import numpy as np\n",
    "import matplotlib.pyplot as plt\n",
    "from matplotlib.cm import get_cmap\n",
    "from sklearn.metrics import roc_curve, auc\n",
    "from sklearn.model_selection import cross_val_predict\n",
    "from sklearn.linear_model import LogisticRegression\n",
    "from xgboost import XGBClassifier\n",
    "from sklearn.naive_bayes import GaussianNB\n",
    "from sklearn.ensemble import RandomForestClassifier\n",
    "\n",
    "\n",
    "# 新增科学色板配置\n",
    "cmap = get_cmap('tab10')  # 使用Matplotlib内置科学色板\n",
    "model_colors = [cmap(i) for i in range(4)]  # 生成4种对比色\n",
    "\n",
    "# 修正后的模型列表\n",
    "models = [\n",
    "    ('lr', LogisticRegression(C=1, penalty='l2', solver='liblinear')),\n",
    "    ('xgb', XGBClassifier(learning_rate=0.1, max_depth=3, n_estimators=100, use_label_encoder=False, eval_metric='logloss')),\n",
    "    ('gass', GaussianNB(var_smoothing=1e-5)),\n",
    "    ('rf', RandomForestClassifier())\n",
    "]\n",
    "\n",
    "# 绘制验证集 & 测试集 ROC 曲线\n",
    "plt.figure(figsize=(12, 6))\n",
    "\n",
    "# 子图1：验证集\n",
    "plt.subplot(1, 2, 1)\n",
    "for idx, (name, model) in enumerate(models):  # new: 增加索引\n",
    "    y_pred_val = cross_val_predict(model, X_train, y_train, cv=5, method='predict_proba')[:, 1]\n",
    "    fpr, tpr, _ = roc_curve(y_train, y_pred_val)  # 确保输入是一维数组\n",
    "    roc_auc = auc(fpr, tpr)\n",
    "    plt.plot(fpr, tpr, \n",
    "             color=model_colors[idx],  # new: 按索引分配颜色\n",
    "             lw=2, \n",
    "             label=f'{name} (AUC={roc_auc:.2f})')\n",
    "\n",
    "plt.plot([0,1], [0,1], 'k--', label='Random')\n",
    "plt.title(\"Validation ROC\")\n",
    "plt.xlabel(\"False Positive Rate\")\n",
    "plt.ylabel(\"True Positive Rate\")\n",
    "plt.legend()\n",
    "\n",
    "# 子图2：测试集\n",
    "plt.subplot(1, 2, 2)\n",
    "for idx, (name, model) in enumerate(models):  # new: 增加索引\n",
    "    model.fit(X_train, y_train)\n",
    "    y_pred_test = model.predict_proba(X_test)[:, 1]  # 确保输入是一维数组\n",
    "    fpr, tpr, _ = roc_curve(y_test, y_pred_test)\n",
    "    roc_auc = auc(fpr, tpr)\n",
    "    plt.plot(fpr, tpr, \n",
    "             color=model_colors[idx],  # new: 保持颜色一致性\n",
    "             lw=2, \n",
    "             label=f'{name} (AUC={roc_auc:.2f})')\n",
    "\n",
    "plt.plot([0,1], [0,1], 'k--')\n",
    "plt.title(\"Test ROC\")\n",
    "plt.xlabel(\"False Positive Rate\")\n",
    "plt.ylabel(\"True Positive Rate\")\n",
    "plt.legend()\n",
    "\n",
    "plt.tight_layout()\n",
    "plt.show()"
   ]
  },
  {
   "cell_type": "code",
   "execution_count": null,
   "id": "33c77151-ee4a-45ca-a5f3-ba48e082129c",
   "metadata": {
    "ExecutionIndicator": {
     "show": true
    },
    "execution": {
     "iopub.execute_input": "2025-03-01T12:47:06.511632Z",
     "iopub.status.busy": "2025-03-01T12:47:06.511405Z",
     "iopub.status.idle": "2025-03-01T12:47:07.677335Z",
     "shell.execute_reply": "2025-03-01T12:47:07.676852Z",
     "shell.execute_reply.started": "2025-03-01T12:47:06.511615Z"
    },
    "tags": []
   },
   "outputs": [],
   "source": [
    "import numpy as np\n",
    "import matplotlib.pyplot as plt\n",
    "from matplotlib.cm import get_cmap\n",
    "from sklearn.metrics import roc_curve, auc\n",
    "from sklearn.model_selection import cross_val_predict\n",
    "from sklearn.linear_model import LogisticRegression\n",
    "from xgboost import XGBClassifier\n",
    "from sklearn.naive_bayes import GaussianNB\n",
    "from sklearn.ensemble import RandomForestClassifier\n",
    "\n",
    "# 假设你已经加载了数据集 X_train, y_train, X_test, y_test\n",
    "# 如果没有，可以使用以下示例数据：\n",
    "from sklearn.datasets import make_classification\n",
    "from sklearn.model_selection import train_test_split\n",
    "\n",
    "# ========== 初始化配置 ========== #\n",
    "# 明确定义基础模型列表\n",
    "base_models = [\n",
    "    ('lr', LogisticRegression(C=1, penalty='l2', solver='liblinear')),\n",
    "    ('xgb', XGBClassifier(learning_rate=0.1, max_depth=3, n_estimators=100, use_label_encoder=False, eval_metric='logloss')),\n",
    "    ('gass', GaussianNB(var_smoothing=1e-5)),\n",
    "    ('rf', RandomForestClassifier())\n",
    "]\n",
    "\n",
    "# 包含融合模型的完整列表\n",
    "full_models = [*base_models, ('fusion', None)]\n",
    "\n",
    "# ========== 科学配色方案 ========== #\n",
    "cmap = get_cmap('tab10')  # 支持最多10种颜色\n",
    "model_colors = [cmap(i) for i in range(len(full_models))]  # 颜色索引绑定\n",
    "\n",
    "# ========== 模型训练与预测 ========== #\n",
    "# 初始化预测存储字典\n",
    "base_probs_val = {name: None for name, _ in base_models}\n",
    "base_probs_test = {name: None for name, _ in base_models}\n",
    "\n",
    "for name, model in base_models:\n",
    "    print(f\"Training {name}...\")\n",
    "    # 验证集交叉验证预测\n",
    "    base_probs_val[name] = cross_val_predict(\n",
    "        model, X_train, y_train, \n",
    "        cv=5, method='predict_proba'\n",
    "    )[:, 1]\n",
    "    \n",
    "    # 测试集预测\n",
    "    model.fit(X_train, y_train)\n",
    "    base_probs_test[name] = model.predict_proba(X_test)[:, 1]\n",
    "\n",
    "# ========== ROC曲线绘制 ========== #\n",
    "plt.figure(figsize=(12, 6))\n",
    "\n",
    "# 子图1：验证集ROC\n",
    "plt.subplot(1, 2, 1)\n",
    "for idx, (name, model) in enumerate(full_models):\n",
    "    if name in [m for m, _ in base_models]:  # 基础模型处理\n",
    "        fpr, tpr, _ = roc_curve(y_train, base_probs_val[name])\n",
    "        roc_auc = auc(fpr, tpr)\n",
    "    elif name == 'fusion':  # 融合模型处理\n",
    "        weighted_prob = 0.9 * base_probs_val['lr'] + 0.1 * base_probs_val['xgb']\n",
    "        fpr, tpr, _ = roc_curve(y_train, weighted_prob)\n",
    "        roc_auc = auc(fpr, tpr)\n",
    "    \n",
    "    plt.plot(fpr, tpr, color=model_colors[idx], lw=2,\n",
    "             label=f'{name} (AUC={roc_auc:.2f})')\n",
    "\n",
    "plt.plot([0, 1], [0, 1], 'k--')\n",
    "plt.title(\"Validation ROC\")\n",
    "plt.xlabel(\"False Positive Rate\")\n",
    "plt.ylabel(\"True Positive Rate\")\n",
    "plt.legend()\n",
    "\n",
    "# 子图2：测试集ROC\n",
    "plt.subplot(1, 2, 2)\n",
    "for idx, (name, model) in enumerate(full_models):\n",
    "    if name in [m for m, _ in base_models]:\n",
    "        y_pred = base_probs_test[name]\n",
    "    elif name == 'fusion':\n",
    "        y_pred = 0.9 * base_probs_test['lr'] + 0.1 * base_probs_test['xgb']\n",
    "    \n",
    "    fpr, tpr, _ = roc_curve(y_test, y_pred)\n",
    "    roc_auc = auc(fpr, tpr)\n",
    "    plt.plot(fpr, tpr, color=model_colors[idx], lw=2,\n",
    "             label=f'{name} (AUC={roc_auc:.2f})')\n",
    "\n",
    "plt.plot([0, 1], [0, 1], 'k--')\n",
    "plt.title(\"Test ROC\")\n",
    "plt.xlabel(\"False Positive Rate\")\n",
    "plt.ylabel(\"True Positive Rate\")\n",
    "plt.legend()\n",
    "\n",
    "plt.tight_layout()\n",
    "plt.show()"
   ]
  },
  {
   "cell_type": "markdown",
   "id": "c94b2316-cb27-4bf6-a379-e5d6a7220aab",
   "metadata": {},
   "source": []
  },
  {
   "cell_type": "code",
   "execution_count": null,
   "id": "cb14e65f-cf6e-4dff-9b32-d40a3586182b",
   "metadata": {
    "execution": {
     "iopub.execute_input": "2025-03-01T12:47:07.678341Z",
     "iopub.status.busy": "2025-03-01T12:47:07.677972Z",
     "iopub.status.idle": "2025-03-01T12:47:08.527212Z",
     "shell.execute_reply": "2025-03-01T12:47:08.526735Z",
     "shell.execute_reply.started": "2025-03-01T12:47:07.678325Z"
    },
    "tags": []
   },
   "outputs": [],
   "source": [
    "base_models = [\n",
    "    ('lr', LogisticRegression(C=1, penalty='l2', solver='liblinear')),\n",
    "    ('rf', RandomForestClassifier(n_estimators=100, random_state=42)),\n",
    "    ('xgb', xgb.XGBClassifier(learning_rate=0.1, max_depth=6, n_estimators=200, random_state=42))\n",
    "]\n",
    "\n",
    "# 最佳权重组合\n",
    "best_weights = {'lr': 0.9, 'rf': 0.0, 'xgb': 0.1}\n",
    "class WeightedEnsembleClassifier(BaseEstimator, ClassifierMixin):\n",
    "    def __init__(self, base_models, weights):\n",
    "        self.base_models = base_models\n",
    "        self.weights = weights\n",
    "\n",
    "    def fit(self, X, y):\n",
    "        for name, model in self.base_models:\n",
    "            model.fit(X, y)\n",
    "        return self\n",
    "\n",
    "    def predict_proba(self, X):\n",
    "        all_preds = np.array([model.predict_proba(X) for name, model in self.base_models])\n",
    "        # 使用权重加权平均\n",
    "        weighted_preds = np.average(all_preds, axis=0, weights=[self.weights[name] for name, _ in self.base_models])\n",
    "        return weighted_preds\n",
    "\n",
    "    def predict(self, X):\n",
    "        proba = self.predict_proba(X)\n",
    "        return np.argmax(proba, axis=1)\n",
    "    # 初始化加权融合模型\n",
    "ensemble_model = WeightedEnsembleClassifier(base_models=base_models, weights=best_weights)\n",
    "\n",
    "# 训练模型\n",
    "ensemble_model.fit(X_train, y_train)# 定义要分析的特征\n",
    "feat_name = 'age'  # 假设数据集中有一个名为'age'的特征\n",
    "base_features = X_train.columns  # 假设X_train是DataFrame格式\n",
    "\n",
    "# 如果X_train是numpy数组，需要转换为DataFrame\n",
    "if isinstance(X_train, np.ndarray):\n",
    "    X_train = pd.DataFrame(X_train, columns=[f\"feature_{i}\" for i in range(X_train.shape[1])])\n",
    "    X_test = pd.DataFrame(X_test, columns=[f\"feature_{i}\" for i in range(X_test.shape[1])])\n",
    "\n",
    "# 确保feat_name在数据集中\n",
    "if feat_name not in X_train.columns:\n",
    "    raise ValueError(f\"Feature '{feat_name}' not found in the dataset.\")\n",
    "\n",
    "# 手动计算PDP\n",
    "def manual_pdp_plot(model, X_test, feature_name):\n",
    "    # 获取特征的范围\n",
    "    feature_values = np.linspace(X_test[feature_name].min(), X_test[feature_name].max(), 50)\n",
    "    pdp_values = []\n",
    "\n",
    "    for value in feature_values:\n",
    "        # 创建一个副本，将特征值替换为当前值\n",
    "        temp_X = X_test.copy()\n",
    "        temp_X[feature_name] = value\n",
    "        # 计算预测概率的平均值\n",
    "        avg_pred = model.predict_proba(temp_X)[:, 1].mean()\n",
    "        pdp_values.append(avg_pred)\n",
    "\n",
    "    # 绘制PDP\n",
    "    plt.plot(feature_values, pdp_values, label='PDP')\n",
    "    plt.xlabel(feature_name)\n",
    "    plt.ylabel('Predicted Probability')\n",
    "    plt.title(f'PDP for {feature_name}')\n",
    "    plt.legend()\n",
    "    plt.show()\n",
    "\n",
    "# 绘制特征'age'的PDP\n",
    "manual_pdp_plot(ensemble_model, X_test, feat_name)"
   ]
  },
  {
   "cell_type": "raw",
   "id": "b32e7ed9-6146-435e-ac67-8733a185c47a",
   "metadata": {
    "ExecutionIndicator": {
     "show": true
    },
    "execution": {
     "iopub.execute_input": "2025-03-01T09:14:23.757055Z",
     "iopub.status.busy": "2025-03-01T09:14:23.756701Z",
     "iopub.status.idle": "2025-03-01T09:14:23.788458Z",
     "shell.execute_reply": "2025-03-01T09:14:23.787826Z",
     "shell.execute_reply.started": "2025-03-01T09:14:23.757023Z"
    },
    "tags": []
   },
   "source": [
    "def manual_pdp_plot(model, X_test, feature_name):\n",
    "    # 获取特征的范围\n",
    "    feature_values = np.linspace(X_test[feature_name].min(), X_test[feature_name].max(), 50)\n",
    "    pdp_values = []\n",
    "\n",
    "    for value in feature_values:\n",
    "        # 创建一个副本，将特征值替换为当前值\n",
    "        temp_X = X_test.copy()\n",
    "        temp_X[feature_name] = value\n",
    "        # 计算预测概率的平均值\n",
    "        avg_pred = model.predict_proba(temp_X)[:, 1].mean()\n",
    "        pdp_values.append(avg_pred)\n",
    "\n",
    "    # 绘制PDP\n",
    "    plt.plot(feature_values, pdp_values, label='PDP')\n",
    "    plt.xlabel(feature_name)\n",
    "    plt.ylabel('Predicted Probability')\n",
    "    plt.title(f'PDP for {feature_name}')\n",
    "    plt.legend()\n",
    "    plt.show()\n",
    "\n",
    "# 绘制特征'st_depression'的PDP\n",
    "manual_pdp_plot(ensemble_model, X_test, 'st_depression')"
   ]
  },
  {
   "cell_type": "code",
   "execution_count": null,
   "id": "b1c8bf5b-0e79-4d7c-a8fb-b60cdf3e2d54",
   "metadata": {
    "ExecutionIndicator": {
     "show": true
    },
    "execution": {
     "iopub.execute_input": "2025-03-01T12:47:08.528016Z",
     "iopub.status.busy": "2025-03-01T12:47:08.527754Z",
     "iopub.status.idle": "2025-03-01T12:47:08.766333Z",
     "shell.execute_reply": "2025-03-01T12:47:08.765710Z",
     "shell.execute_reply.started": "2025-03-01T12:47:08.527996Z"
    },
    "tags": []
   },
   "outputs": [],
   "source": [
    "# 训练随机森林模型\n",
    "import shap\n",
    "rf = RandomForestClassifier(random_state=42)\n",
    "rf.fit(X_train, y_train)\n",
    "\n",
    "# 使用 SHAP 解释模型\n",
    "explainer = shap.TreeExplainer(rf)\n",
    "shap_values = explainer.shap_values(X_test, check_additivity=False)  # 禁用加性检查\n",
    "shap.summary_plot(shap_values[1], X_test, plot_type=\"bar\")"
   ]
  },
  {
   "cell_type": "code",
   "execution_count": null,
   "id": "8947afce-87ee-447f-b8b7-8524a5132b79",
   "metadata": {
    "ExecutionIndicator": {
     "show": true
    },
    "execution": {
     "iopub.execute_input": "2025-03-01T12:50:00.851481Z",
     "iopub.status.busy": "2025-03-01T12:50:00.851133Z",
     "iopub.status.idle": "2025-03-01T12:50:01.179879Z",
     "shell.execute_reply": "2025-03-01T12:50:01.179178Z",
     "shell.execute_reply.started": "2025-03-01T12:50:00.851462Z"
    },
    "tags": []
   },
   "outputs": [],
   "source": [
    "from sklearn.ensemble import RandomForestClassifier\n",
    "import shap\n",
    "import numpy as np\n",
    "\n",
    "# 训练随机森林模型\n",
    "rf = RandomForestClassifier(random_state=42)\n",
    "rf.fit(X_train, y_train)\n",
    "\n",
    "# 获取正类的概率\n",
    "y_pred_proba = rf.predict_proba(X_test)[:, 1]\n",
    "\n",
    "# 已知的最佳阈值\n",
    "optimal_threshold = 0.29999999999999993\n",
    "\n",
    "# 使用最佳阈值调整预测结果\n",
    "y_pred_optimal = (y_pred_proba >= optimal_threshold).astype(int)\n",
    "\n",
    "# 使用 shap.Explainer\n",
    "explainer = shap.Explainer(rf)\n",
    "shap_values = explainer(X_test)\n",
    "\n",
    "# 检查 SHAP 值的形状\n",
    "print(\"shap_values shape:\", shap_values.shape)  # 应该是 (61, 19, 2)\n",
    "\n",
    "# 提取正类（类别 1）的 SHAP 值\n",
    "shap_values_positive = shap_values[..., 1]  # 提取最后一个维度的索引为 1 的值\n",
    "print(\"shap_values_positive shape:\", shap_values_positive.shape)  # 应该是 (61, 19)\n",
    "\n",
    "# 绘制 SHAP 总结图（条形图）\n",
    "shap.plots.bar(shap_values_positive)"
   ]
  },
  {
   "cell_type": "code",
   "execution_count": null,
   "id": "67b0d254-b9d4-443b-b6c0-c2de4b86a425",
   "metadata": {},
   "outputs": [],
   "source": []
  }
 ],
 "metadata": {
  "kernelspec": {
   "display_name": "Python 3 (ipykernel)",
   "language": "python",
   "name": "python3"
  },
  "language_info": {
   "codemirror_mode": {
    "name": "ipython",
    "version": 3
   },
   "file_extension": ".py",
   "mimetype": "text/x-python",
   "name": "python",
   "nbconvert_exporter": "python",
   "pygments_lexer": "ipython3",
   "version": "3.10.14"
  }
 },
 "nbformat": 4,
 "nbformat_minor": 5
}
